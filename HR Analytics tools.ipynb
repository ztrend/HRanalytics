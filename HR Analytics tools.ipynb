{
 "cells": [
  {
   "cell_type": "code",
   "execution_count": 1,
   "id": "5392dc07",
   "metadata": {},
   "outputs": [],
   "source": [
    "import pandas as pd\n",
    "\n",
    "data = {'Sector': ['Airline', 'Hotel', 'Pharmaceutical', 'Car maker', 'Insurance', 'Printing', 'Industrial and energy', 'Retail', 'Hotel', 'Security'],\n",
    "        'Needs': ['Staff evaluation by superiors and one way newsfeed',\n",
    "                  'Increase internal communications',\n",
    "                  'Communication tool for external sales, communications with clients and internally with employees',\n",
    "                  'Newsfeed function',\n",
    "                  'Communication tool for external sales',\n",
    "                  'Internal communications',\n",
    "                  'Internal communications',\n",
    "                  'Push communication, career hubs',\n",
    "                  'Reduce employee turnover, vacation tracking software, news feed, video chat',\n",
    "                  'Internal communications']}\n",
    "\n",
    "df = pd.DataFrame(data)\n",
    "\n",
    "def find_solution(sector, needs):\n",
    "    if 'communication' in needs.lower() or 'newsfeed' in needs.lower():\n",
    "        if sector in ['Airline', 'Hotel', 'Pharmaceutical', 'Insurance', 'Retail']:\n",
    "            return 'Slack'\n",
    "        else:\n",
    "            return 'Microsoft Teams'\n",
    "    elif 'reduce employee turnover' in needs.lower():\n",
    "        return 'BambooHR'\n",
    "    elif 'vacation tracking software' in needs.lower():\n",
    "        return 'TimeOffManager'\n",
    "    else:\n",
    "        return 'Other'\n",
    "\n",
    "df['Solution'] = df.apply(lambda x: find_solution(x['Sector'], x['Needs']), axis=1)\n"
   ]
  },
  {
   "cell_type": "code",
   "execution_count": 5,
   "id": "896e566f",
   "metadata": {},
   "outputs": [
    {
     "data": {
      "text/html": [
       "<div>\n",
       "<style scoped>\n",
       "    .dataframe tbody tr th:only-of-type {\n",
       "        vertical-align: middle;\n",
       "    }\n",
       "\n",
       "    .dataframe tbody tr th {\n",
       "        vertical-align: top;\n",
       "    }\n",
       "\n",
       "    .dataframe thead th {\n",
       "        text-align: right;\n",
       "    }\n",
       "</style>\n",
       "<table border=\"1\" class=\"dataframe\">\n",
       "  <thead>\n",
       "    <tr style=\"text-align: right;\">\n",
       "      <th></th>\n",
       "      <th>Sector</th>\n",
       "      <th>Needs</th>\n",
       "      <th>Solution</th>\n",
       "    </tr>\n",
       "  </thead>\n",
       "  <tbody>\n",
       "    <tr>\n",
       "      <th>0</th>\n",
       "      <td>Airline</td>\n",
       "      <td>Staff evaluation by superiors and one way news...</td>\n",
       "      <td>Slack</td>\n",
       "    </tr>\n",
       "    <tr>\n",
       "      <th>1</th>\n",
       "      <td>Hotel</td>\n",
       "      <td>Increase internal communications</td>\n",
       "      <td>Slack</td>\n",
       "    </tr>\n",
       "    <tr>\n",
       "      <th>2</th>\n",
       "      <td>Pharmaceutical</td>\n",
       "      <td>Communication tool for external sales, communi...</td>\n",
       "      <td>Slack</td>\n",
       "    </tr>\n",
       "    <tr>\n",
       "      <th>3</th>\n",
       "      <td>Car maker</td>\n",
       "      <td>Newsfeed function</td>\n",
       "      <td>Microsoft Teams</td>\n",
       "    </tr>\n",
       "    <tr>\n",
       "      <th>4</th>\n",
       "      <td>Insurance</td>\n",
       "      <td>Communication tool for external sales</td>\n",
       "      <td>Slack</td>\n",
       "    </tr>\n",
       "    <tr>\n",
       "      <th>5</th>\n",
       "      <td>Printing</td>\n",
       "      <td>Internal communications</td>\n",
       "      <td>Microsoft Teams</td>\n",
       "    </tr>\n",
       "    <tr>\n",
       "      <th>6</th>\n",
       "      <td>Industrial and energy</td>\n",
       "      <td>Internal communications</td>\n",
       "      <td>Microsoft Teams</td>\n",
       "    </tr>\n",
       "    <tr>\n",
       "      <th>7</th>\n",
       "      <td>Retail</td>\n",
       "      <td>Push communication, career hubs</td>\n",
       "      <td>Slack</td>\n",
       "    </tr>\n",
       "    <tr>\n",
       "      <th>8</th>\n",
       "      <td>Hotel</td>\n",
       "      <td>Reduce employee turnover, vacation tracking so...</td>\n",
       "      <td>BambooHR</td>\n",
       "    </tr>\n",
       "    <tr>\n",
       "      <th>9</th>\n",
       "      <td>Security</td>\n",
       "      <td>Internal communications</td>\n",
       "      <td>Microsoft Teams</td>\n",
       "    </tr>\n",
       "  </tbody>\n",
       "</table>\n",
       "</div>"
      ],
      "text/plain": [
       "                  Sector                                              Needs  \\\n",
       "0                Airline  Staff evaluation by superiors and one way news...   \n",
       "1                  Hotel                   Increase internal communications   \n",
       "2         Pharmaceutical  Communication tool for external sales, communi...   \n",
       "3              Car maker                                  Newsfeed function   \n",
       "4              Insurance              Communication tool for external sales   \n",
       "5               Printing                            Internal communications   \n",
       "6  Industrial and energy                            Internal communications   \n",
       "7                 Retail                    Push communication, career hubs   \n",
       "8                  Hotel  Reduce employee turnover, vacation tracking so...   \n",
       "9               Security                            Internal communications   \n",
       "\n",
       "          Solution  \n",
       "0            Slack  \n",
       "1            Slack  \n",
       "2            Slack  \n",
       "3  Microsoft Teams  \n",
       "4            Slack  \n",
       "5  Microsoft Teams  \n",
       "6  Microsoft Teams  \n",
       "7            Slack  \n",
       "8         BambooHR  \n",
       "9  Microsoft Teams  "
      ]
     },
     "execution_count": 5,
     "metadata": {},
     "output_type": "execute_result"
    }
   ],
   "source": [
    "df\n"
   ]
  },
  {
   "cell_type": "code",
   "execution_count": 6,
   "id": "9e5a74b1",
   "metadata": {},
   "outputs": [
    {
     "name": "stdout",
     "output_type": "stream",
     "text": [
      "fatal: not a git repository (or any of the parent directories): .git\r\n"
     ]
    }
   ],
   "source": [
    "!git add ."
   ]
  },
  {
   "cell_type": "code",
   "execution_count": 7,
   "id": "27fc5ee8",
   "metadata": {},
   "outputs": [
    {
     "name": "stdout",
     "output_type": "stream",
     "text": [
      "Initialized empty Git repository in /root/code/data_science/.git/\r\n"
     ]
    }
   ],
   "source": [
    "!git init\n"
   ]
  },
  {
   "cell_type": "code",
   "execution_count": 8,
   "id": "74a2fa15",
   "metadata": {},
   "outputs": [
    {
     "name": "stdout",
     "output_type": "stream",
     "text": [
      "/root/code/data_science\r\n"
     ]
    }
   ],
   "source": [
    "!pwd"
   ]
  },
  {
   "cell_type": "code",
   "execution_count": 9,
   "id": "df65532d",
   "metadata": {},
   "outputs": [
    {
     "name": "stdout",
     "output_type": "stream",
     "text": [
      "zsh:cd:1: not a directory: HR Analytics tools.ipynb\r\n"
     ]
    }
   ],
   "source": [
    "!cd HR\\ Analytics\\ tools.ipynb"
   ]
  },
  {
   "cell_type": "code",
   "execution_count": 10,
   "id": "8a285512",
   "metadata": {},
   "outputs": [],
   "source": [
    "!cd HRanalytics/"
   ]
  },
  {
   "cell_type": "code",
   "execution_count": 11,
   "id": "876fdff0",
   "metadata": {},
   "outputs": [
    {
     "name": "stdout",
     "output_type": "stream",
     "text": [
      "Reinitialized existing Git repository in /root/code/data_science/.git/\r\n"
     ]
    }
   ],
   "source": [
    "!git init"
   ]
  },
  {
   "cell_type": "code",
   "execution_count": 12,
   "id": "8cc1e79d",
   "metadata": {},
   "outputs": [
    {
     "name": "stdout",
     "output_type": "stream",
     "text": [
      "warning: adding embedded git repository: F1_data_analytics\n",
      "\u001b[33mhint: You've added another git repository inside your current repository.\u001b[m\n",
      "\u001b[33mhint: Clones of the outer repository will not contain the contents of\u001b[m\n",
      "\u001b[33mhint: the embedded repository and will not know how to obtain it.\u001b[m\n",
      "\u001b[33mhint: If you meant to add a submodule, use:\u001b[m\n",
      "\u001b[33mhint: \u001b[m\n",
      "\u001b[33mhint: \tgit submodule add <url> F1_data_analytics\u001b[m\n",
      "\u001b[33mhint: \u001b[m\n",
      "\u001b[33mhint: If you added this path by mistake, you can remove it from the\u001b[m\n",
      "\u001b[33mhint: index with:\u001b[m\n",
      "\u001b[33mhint: \u001b[m\n",
      "\u001b[33mhint: \tgit rm --cached F1_data_analytics\u001b[m\n",
      "\u001b[33mhint: \u001b[m\n",
      "\u001b[33mhint: See \"git help submodule\" for more information.\u001b[m\n",
      "warning: adding embedded git repository: HRanalytics\n"
     ]
    }
   ],
   "source": [
    "!git add ."
   ]
  },
  {
   "cell_type": "code",
   "execution_count": 13,
   "id": "0da5cf78",
   "metadata": {},
   "outputs": [
    {
     "name": "stdout",
     "output_type": "stream",
     "text": [
      "error: the following file has staged content different from both the\r\n",
      "file and the HEAD:\r\n",
      "    F1_data_analytics\r\n",
      "(use -f to force removal)\r\n"
     ]
    }
   ],
   "source": [
    "!git rm --cached F1_data_analytics/"
   ]
  },
  {
   "cell_type": "code",
   "execution_count": null,
   "id": "8728f619",
   "metadata": {},
   "outputs": [],
   "source": []
  }
 ],
 "metadata": {
  "kernelspec": {
   "display_name": "Python 3 (ipykernel)",
   "language": "python",
   "name": "python3"
  },
  "language_info": {
   "codemirror_mode": {
    "name": "ipython",
    "version": 3
   },
   "file_extension": ".py",
   "mimetype": "text/x-python",
   "name": "python",
   "nbconvert_exporter": "python",
   "pygments_lexer": "ipython3",
   "version": "3.10.6"
  },
  "toc": {
   "base_numbering": 1,
   "nav_menu": {},
   "number_sections": true,
   "sideBar": true,
   "skip_h1_title": false,
   "title_cell": "Table of Contents",
   "title_sidebar": "Contents",
   "toc_cell": false,
   "toc_position": {},
   "toc_section_display": true,
   "toc_window_display": false
  },
  "varInspector": {
   "cols": {
    "lenName": 16,
    "lenType": 16,
    "lenVar": 40
   },
   "kernels_config": {
    "python": {
     "delete_cmd_postfix": "",
     "delete_cmd_prefix": "del ",
     "library": "var_list.py",
     "varRefreshCmd": "print(var_dic_list())"
    },
    "r": {
     "delete_cmd_postfix": ") ",
     "delete_cmd_prefix": "rm(",
     "library": "var_list.r",
     "varRefreshCmd": "cat(var_dic_list()) "
    }
   },
   "types_to_exclude": [
    "module",
    "function",
    "builtin_function_or_method",
    "instance",
    "_Feature"
   ],
   "window_display": false
  }
 },
 "nbformat": 4,
 "nbformat_minor": 5
}
